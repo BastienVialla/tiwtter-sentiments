{
 "cells": [
  {
   "cell_type": "code",
   "execution_count": 1,
   "id": "broken-professional",
   "metadata": {},
   "outputs": [],
   "source": [
    "import pandas as pd\n",
    "import numpy as np\n",
    "import re\n",
    "import unidecode\n",
    "import chardet\n",
    "import bz2\n",
    "import gc"
   ]
  },
  {
   "cell_type": "code",
   "execution_count": 2,
   "id": "d8b45944-afe8-41b5-b3bf-f8b0af3e1b82",
   "metadata": {},
   "outputs": [],
   "source": [
    "#with open('data/training.1600000.processed.noemoticon.csv', 'rb') as f:\n",
    "#    enc = chardet.detect(f.read())"
   ]
  },
  {
   "cell_type": "code",
   "execution_count": 3,
   "id": "17ac85e3-2a36-4c30-a4fd-8baecef46993",
   "metadata": {},
   "outputs": [],
   "source": [
    "#enc['encoding']"
   ]
  },
  {
   "cell_type": "code",
   "execution_count": 4,
   "id": "centered-preserve",
   "metadata": {},
   "outputs": [],
   "source": [
    "df = pd.read_csv('../data/training.1600000.processed.noemoticon.csv', header=None, encoding='latin')"
   ]
  },
  {
   "cell_type": "code",
   "execution_count": 5,
   "id": "ordered-variety",
   "metadata": {},
   "outputs": [
    {
     "data": {
      "text/html": [
       "<div>\n",
       "<style scoped>\n",
       "    .dataframe tbody tr th:only-of-type {\n",
       "        vertical-align: middle;\n",
       "    }\n",
       "\n",
       "    .dataframe tbody tr th {\n",
       "        vertical-align: top;\n",
       "    }\n",
       "\n",
       "    .dataframe thead th {\n",
       "        text-align: right;\n",
       "    }\n",
       "</style>\n",
       "<table border=\"1\" class=\"dataframe\">\n",
       "  <thead>\n",
       "    <tr style=\"text-align: right;\">\n",
       "      <th></th>\n",
       "      <th>0</th>\n",
       "      <th>1</th>\n",
       "      <th>2</th>\n",
       "      <th>3</th>\n",
       "      <th>4</th>\n",
       "      <th>5</th>\n",
       "    </tr>\n",
       "  </thead>\n",
       "  <tbody>\n",
       "    <tr>\n",
       "      <th>0</th>\n",
       "      <td>0</td>\n",
       "      <td>1467810369</td>\n",
       "      <td>Mon Apr 06 22:19:45 PDT 2009</td>\n",
       "      <td>NO_QUERY</td>\n",
       "      <td>_TheSpecialOne_</td>\n",
       "      <td>@switchfoot http://twitpic.com/2y1zl - Awww, t...</td>\n",
       "    </tr>\n",
       "    <tr>\n",
       "      <th>1</th>\n",
       "      <td>0</td>\n",
       "      <td>1467810672</td>\n",
       "      <td>Mon Apr 06 22:19:49 PDT 2009</td>\n",
       "      <td>NO_QUERY</td>\n",
       "      <td>scotthamilton</td>\n",
       "      <td>is upset that he can't update his Facebook by ...</td>\n",
       "    </tr>\n",
       "    <tr>\n",
       "      <th>2</th>\n",
       "      <td>0</td>\n",
       "      <td>1467810917</td>\n",
       "      <td>Mon Apr 06 22:19:53 PDT 2009</td>\n",
       "      <td>NO_QUERY</td>\n",
       "      <td>mattycus</td>\n",
       "      <td>@Kenichan I dived many times for the ball. Man...</td>\n",
       "    </tr>\n",
       "    <tr>\n",
       "      <th>3</th>\n",
       "      <td>0</td>\n",
       "      <td>1467811184</td>\n",
       "      <td>Mon Apr 06 22:19:57 PDT 2009</td>\n",
       "      <td>NO_QUERY</td>\n",
       "      <td>ElleCTF</td>\n",
       "      <td>my whole body feels itchy and like its on fire</td>\n",
       "    </tr>\n",
       "    <tr>\n",
       "      <th>4</th>\n",
       "      <td>0</td>\n",
       "      <td>1467811193</td>\n",
       "      <td>Mon Apr 06 22:19:57 PDT 2009</td>\n",
       "      <td>NO_QUERY</td>\n",
       "      <td>Karoli</td>\n",
       "      <td>@nationwideclass no, it's not behaving at all....</td>\n",
       "    </tr>\n",
       "  </tbody>\n",
       "</table>\n",
       "</div>"
      ],
      "text/plain": [
       "   0           1                             2         3                4  \\\n",
       "0  0  1467810369  Mon Apr 06 22:19:45 PDT 2009  NO_QUERY  _TheSpecialOne_   \n",
       "1  0  1467810672  Mon Apr 06 22:19:49 PDT 2009  NO_QUERY    scotthamilton   \n",
       "2  0  1467810917  Mon Apr 06 22:19:53 PDT 2009  NO_QUERY         mattycus   \n",
       "3  0  1467811184  Mon Apr 06 22:19:57 PDT 2009  NO_QUERY          ElleCTF   \n",
       "4  0  1467811193  Mon Apr 06 22:19:57 PDT 2009  NO_QUERY           Karoli   \n",
       "\n",
       "                                                   5  \n",
       "0  @switchfoot http://twitpic.com/2y1zl - Awww, t...  \n",
       "1  is upset that he can't update his Facebook by ...  \n",
       "2  @Kenichan I dived many times for the ball. Man...  \n",
       "3    my whole body feels itchy and like its on fire   \n",
       "4  @nationwideclass no, it's not behaving at all....  "
      ]
     },
     "execution_count": 5,
     "metadata": {},
     "output_type": "execute_result"
    }
   ],
   "source": [
    "df.head()"
   ]
  },
  {
   "cell_type": "code",
   "execution_count": 6,
   "id": "exciting-arbitration",
   "metadata": {},
   "outputs": [],
   "source": [
    "columns = ['polarity', 'id', 'date', 'query', 'user', 'text']\n",
    "df.columns = columns"
   ]
  },
  {
   "cell_type": "code",
   "execution_count": 7,
   "id": "comic-cover",
   "metadata": {},
   "outputs": [],
   "source": [
    "df.drop(['id', 'date', 'query', 'user'], axis=1, inplace=True)"
   ]
  },
  {
   "cell_type": "code",
   "execution_count": 8,
   "id": "impossible-flesh",
   "metadata": {},
   "outputs": [],
   "source": [
    "pol_switch = {'0': 0, '4': 1}"
   ]
  },
  {
   "cell_type": "code",
   "execution_count": 9,
   "id": "official-composer",
   "metadata": {},
   "outputs": [],
   "source": [
    "df['polarity'] = df['polarity'].apply(lambda x: pol_switch[str(x)])"
   ]
  },
  {
   "cell_type": "code",
   "execution_count": 10,
   "id": "spectacular-rebecca",
   "metadata": {},
   "outputs": [],
   "source": [
    "def clean(text):\n",
    "    t = text.lower()\n",
    "    t = t.replace('\\\\n', ' ').replace('\\\\t', ' ').replace('\\t', ' ').replace('. com', '.com')\n",
    "    t = re.sub(r'https?:\\/\\/[a-z.\\/A-Z\\d]*', ' ', t)\n",
    "    t = re.sub(r\"\\ [A-Za-z]*\\.com\", ' ', t)\n",
    "    t = re.sub(r\"@\\S+\", '', t)\n",
    "    t = t.replace('@', '')\n",
    "    t = unidecode.unidecode(t)\n",
    "    t = t.replace('#', '_')\n",
    "    \n",
    "    to_replace = [\"&quot;\", ':&lt;', ':&gt;', '&amp;', '-&lt;', '-&gt;', '=&lt;', '=&gt;', 's&lt;', 's&gt;']\n",
    "    for x in to_replace:\n",
    "        t = t.replace(x, '')\n",
    "    pattern = re.compile(r\"([A-Za-z])\\1{1,}\", re.DOTALL)\n",
    "    t = pattern.sub(r\"\\1\\1\", t)\n",
    "    \n",
    "    pattern = re.compile(r\"([\\s.,\\/#!$%^&*?;:{}=_`()+-])\\1{1,}\")\n",
    "    t = pattern.sub(r'\\1', t)\n",
    "    t = re.sub(' {2,}', '', t)\n",
    "    t = t.lower()\n",
    "    t = t.strip()\n",
    "    t = t.rstrip()\n",
    "    return t"
   ]
  },
  {
   "cell_type": "code",
   "execution_count": 11,
   "id": "introductory-feeding",
   "metadata": {},
   "outputs": [
    {
     "data": {
      "text/plain": [
       "'is going to watch ?ai again, on her handphone during lit camp _tramp'"
      ]
     },
     "execution_count": 11,
     "metadata": {},
     "output_type": "execute_result"
    }
   ],
   "source": [
    "t = \"@Hello is going to watch ?Ai again, on her handphone during lit camp #tramp\"\n",
    "clean(t)"
   ]
  },
  {
   "cell_type": "code",
   "execution_count": 12,
   "id": "favorite-reasoning",
   "metadata": {},
   "outputs": [],
   "source": [
    "df['text'] = df['text'].apply(lambda x: clean(str(x)))"
   ]
  },
  {
   "cell_type": "code",
   "execution_count": 13,
   "id": "910bd831-9087-4d04-8b19-a8371a9dc645",
   "metadata": {},
   "outputs": [],
   "source": [
    "df['len'] = df['text'].apply(lambda x: len(x))"
   ]
  },
  {
   "cell_type": "code",
   "execution_count": 14,
   "id": "e96b51b3-c39a-4c16-b227-d90ffab7800b",
   "metadata": {},
   "outputs": [],
   "source": [
    "df.drop(df.loc[df['len'] == 0].index, axis=0, inplace=True)"
   ]
  },
  {
   "cell_type": "code",
   "execution_count": 15,
   "id": "3c5d86c7-ba5f-4af4-9d96-0f5f0671ecc6",
   "metadata": {},
   "outputs": [],
   "source": [
    "df.drop('len', axis=1, inplace=True)"
   ]
  },
  {
   "cell_type": "code",
   "execution_count": 16,
   "id": "87025c87-05f8-41f0-8751-e48bf6c8e2db",
   "metadata": {},
   "outputs": [
    {
     "data": {
      "text/html": [
       "<div>\n",
       "<style scoped>\n",
       "    .dataframe tbody tr th:only-of-type {\n",
       "        vertical-align: middle;\n",
       "    }\n",
       "\n",
       "    .dataframe tbody tr th {\n",
       "        vertical-align: top;\n",
       "    }\n",
       "\n",
       "    .dataframe thead th {\n",
       "        text-align: right;\n",
       "    }\n",
       "</style>\n",
       "<table border=\"1\" class=\"dataframe\">\n",
       "  <thead>\n",
       "    <tr style=\"text-align: right;\">\n",
       "      <th></th>\n",
       "      <th>polarity</th>\n",
       "      <th>text</th>\n",
       "    </tr>\n",
       "  </thead>\n",
       "  <tbody>\n",
       "    <tr>\n",
       "      <th>0</th>\n",
       "      <td>0</td>\n",
       "      <td>- aww, that's a bummer. you shoulda got david ...</td>\n",
       "    </tr>\n",
       "    <tr>\n",
       "      <th>1</th>\n",
       "      <td>0</td>\n",
       "      <td>is upset that he can't update his facebook by ...</td>\n",
       "    </tr>\n",
       "    <tr>\n",
       "      <th>2</th>\n",
       "      <td>0</td>\n",
       "      <td>i dived many times for the ball. managed to sa...</td>\n",
       "    </tr>\n",
       "    <tr>\n",
       "      <th>3</th>\n",
       "      <td>0</td>\n",
       "      <td>my whole body feels itchy and like its on fire</td>\n",
       "    </tr>\n",
       "    <tr>\n",
       "      <th>4</th>\n",
       "      <td>0</td>\n",
       "      <td>no, it's not behaving at all. i'm mad. why am ...</td>\n",
       "    </tr>\n",
       "  </tbody>\n",
       "</table>\n",
       "</div>"
      ],
      "text/plain": [
       "   polarity                                               text\n",
       "0         0  - aww, that's a bummer. you shoulda got david ...\n",
       "1         0  is upset that he can't update his facebook by ...\n",
       "2         0  i dived many times for the ball. managed to sa...\n",
       "3         0     my whole body feels itchy and like its on fire\n",
       "4         0  no, it's not behaving at all. i'm mad. why am ..."
      ]
     },
     "execution_count": 16,
     "metadata": {},
     "output_type": "execute_result"
    }
   ],
   "source": [
    "df.head()"
   ]
  },
  {
   "cell_type": "code",
   "execution_count": 17,
   "id": "5355e4be-8924-4ff4-bfc4-e9ab9b60bd0c",
   "metadata": {},
   "outputs": [],
   "source": [
    "df['text'] = df['text'].astype('string')"
   ]
  },
  {
   "cell_type": "code",
   "execution_count": 18,
   "id": "alpine-geometry",
   "metadata": {},
   "outputs": [
    {
     "data": {
      "text/html": [
       "<div>\n",
       "<style scoped>\n",
       "    .dataframe tbody tr th:only-of-type {\n",
       "        vertical-align: middle;\n",
       "    }\n",
       "\n",
       "    .dataframe tbody tr th {\n",
       "        vertical-align: top;\n",
       "    }\n",
       "\n",
       "    .dataframe thead th {\n",
       "        text-align: right;\n",
       "    }\n",
       "</style>\n",
       "<table border=\"1\" class=\"dataframe\">\n",
       "  <thead>\n",
       "    <tr style=\"text-align: right;\">\n",
       "      <th></th>\n",
       "      <th>polarity</th>\n",
       "      <th>text</th>\n",
       "    </tr>\n",
       "  </thead>\n",
       "  <tbody>\n",
       "    <tr>\n",
       "      <th>0</th>\n",
       "      <td>0</td>\n",
       "      <td>- aww, that's a bummer. you shoulda got david ...</td>\n",
       "    </tr>\n",
       "    <tr>\n",
       "      <th>1</th>\n",
       "      <td>0</td>\n",
       "      <td>is upset that he can't update his facebook by ...</td>\n",
       "    </tr>\n",
       "    <tr>\n",
       "      <th>2</th>\n",
       "      <td>0</td>\n",
       "      <td>i dived many times for the ball. managed to sa...</td>\n",
       "    </tr>\n",
       "    <tr>\n",
       "      <th>3</th>\n",
       "      <td>0</td>\n",
       "      <td>my whole body feels itchy and like its on fire</td>\n",
       "    </tr>\n",
       "    <tr>\n",
       "      <th>4</th>\n",
       "      <td>0</td>\n",
       "      <td>no, it's not behaving at all. i'm mad. why am ...</td>\n",
       "    </tr>\n",
       "  </tbody>\n",
       "</table>\n",
       "</div>"
      ],
      "text/plain": [
       "   polarity                                               text\n",
       "0         0  - aww, that's a bummer. you shoulda got david ...\n",
       "1         0  is upset that he can't update his facebook by ...\n",
       "2         0  i dived many times for the ball. managed to sa...\n",
       "3         0     my whole body feels itchy and like its on fire\n",
       "4         0  no, it's not behaving at all. i'm mad. why am ..."
      ]
     },
     "execution_count": 18,
     "metadata": {},
     "output_type": "execute_result"
    }
   ],
   "source": [
    "df.head()"
   ]
  },
  {
   "cell_type": "code",
   "execution_count": 19,
   "id": "located-ordinance",
   "metadata": {},
   "outputs": [],
   "source": [
    "df = df.sample(frac=1)"
   ]
  },
  {
   "cell_type": "code",
   "execution_count": 20,
   "id": "attractive-reynolds",
   "metadata": {},
   "outputs": [],
   "source": [
    "df.to_csv('../data/all.csv', index=None)"
   ]
  },
  {
   "cell_type": "code",
   "execution_count": 21,
   "id": "84140cb9-8607-4ad8-8047-4228c7c842cf",
   "metadata": {},
   "outputs": [],
   "source": [
    "texts = list(df['text'])"
   ]
  },
  {
   "cell_type": "code",
   "execution_count": 22,
   "id": "f9398b42-bb6c-4fa4-9ea0-8477a0f84b68",
   "metadata": {},
   "outputs": [
    {
     "data": {
      "text/plain": [
       "'renee showed odette off to dad today. he seemed a bit creeped out so glad she loves it, had a blast making her.'"
      ]
     },
     "execution_count": 22,
     "metadata": {},
     "output_type": "execute_result"
    }
   ],
   "source": [
    "texts[1152]"
   ]
  },
  {
   "cell_type": "code",
   "execution_count": 23,
   "id": "statewide-adjustment",
   "metadata": {},
   "outputs": [],
   "source": [
    "valid_size = int(0.2*len(df))\n",
    "df_train = df[:-valid_size]\n",
    "df_valid = df[-valid_size:]"
   ]
  },
  {
   "cell_type": "code",
   "execution_count": 24,
   "id": "f8fbeaf4-bf55-4ab2-b842-8d32ff25a2e3",
   "metadata": {},
   "outputs": [],
   "source": [
    "df_train.to_csv('../data/train.csv', index=None)\n",
    "df_valid.to_csv('../data/valid.csv', index=None)"
   ]
  },
  {
   "cell_type": "code",
   "execution_count": null,
   "id": "9347ca52-1dfc-49b3-bccb-b9c58d469c24",
   "metadata": {},
   "outputs": [],
   "source": []
  }
 ],
 "metadata": {
  "kernelspec": {
   "display_name": "Python 3 (ipykernel)",
   "language": "python",
   "name": "python3"
  },
  "language_info": {
   "codemirror_mode": {
    "name": "ipython",
    "version": 3
   },
   "file_extension": ".py",
   "mimetype": "text/x-python",
   "name": "python",
   "nbconvert_exporter": "python",
   "pygments_lexer": "ipython3",
   "version": "3.10.4"
  }
 },
 "nbformat": 4,
 "nbformat_minor": 5
}
